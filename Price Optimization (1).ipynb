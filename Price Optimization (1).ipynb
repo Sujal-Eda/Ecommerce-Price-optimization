{
 "cells": [
  {
   "cell_type": "markdown",
   "id": "efe3ad22-4e1b-4bfd-a66f-36aca01ca9cd",
   "metadata": {},
   "source": [
    "## Accessing Data"
   ]
  },
  {
   "cell_type": "code",
   "execution_count": 1,
   "id": "cf58380b-d8d4-46b7-b20f-29f0a9726f81",
   "metadata": {},
   "outputs": [],
   "source": [
    "import pandas as pd\n",
    "import numpy as np\n",
    "import seaborn as sns\n",
    "import matplotlib.pyplot as plt\n"
   ]
  },
  {
   "cell_type": "code",
   "execution_count": 2,
   "id": "a23dee40-18f7-455e-b7be-2827cba194e1",
   "metadata": {},
   "outputs": [],
   "source": [
    "df=pd.read_csv(r'C:\\Users\\Hp\\Downloads\\Competition_Data.csv')"
   ]
  },
  {
   "cell_type": "code",
   "execution_count": 3,
   "id": "fe98defb-f97a-4721-a048-5c212642fa27",
   "metadata": {},
   "outputs": [
    {
     "data": {
      "text/plain": [
       "Index                       0\n",
       "Fiscal_Week_ID              0\n",
       "Store_ID                    0\n",
       "Item_ID                     0\n",
       "Price                       0\n",
       "Item_Quantity               0\n",
       "Sales_Amount_No_Discount    0\n",
       "Sales_Amount                0\n",
       "Competition_Price           0\n",
       "dtype: int64"
      ]
     },
     "execution_count": 3,
     "metadata": {},
     "output_type": "execute_result"
    }
   ],
   "source": [
    "df.isnull().sum()"
   ]
  },
  {
   "cell_type": "code",
   "execution_count": 4,
   "id": "709259ad-55dc-47c2-baa7-93f27a894b6a",
   "metadata": {},
   "outputs": [
    {
     "data": {
      "text/html": [
       "<div>\n",
       "<style scoped>\n",
       "    .dataframe tbody tr th:only-of-type {\n",
       "        vertical-align: middle;\n",
       "    }\n",
       "\n",
       "    .dataframe tbody tr th {\n",
       "        vertical-align: top;\n",
       "    }\n",
       "\n",
       "    .dataframe thead th {\n",
       "        text-align: right;\n",
       "    }\n",
       "</style>\n",
       "<table border=\"1\" class=\"dataframe\">\n",
       "  <thead>\n",
       "    <tr style=\"text-align: right;\">\n",
       "      <th></th>\n",
       "      <th>Index</th>\n",
       "      <th>Price</th>\n",
       "      <th>Item_Quantity</th>\n",
       "      <th>Sales_Amount_No_Discount</th>\n",
       "      <th>Sales_Amount</th>\n",
       "      <th>Competition_Price</th>\n",
       "    </tr>\n",
       "  </thead>\n",
       "  <tbody>\n",
       "    <tr>\n",
       "      <th>count</th>\n",
       "      <td>100000.000000</td>\n",
       "      <td>100000.000000</td>\n",
       "      <td>100000.000000</td>\n",
       "      <td>100000.000000</td>\n",
       "      <td>100000.000000</td>\n",
       "      <td>100000.000000</td>\n",
       "    </tr>\n",
       "    <tr>\n",
       "      <th>mean</th>\n",
       "      <td>49999.500000</td>\n",
       "      <td>167.017783</td>\n",
       "      <td>399.611320</td>\n",
       "      <td>4771.147859</td>\n",
       "      <td>11396.865217</td>\n",
       "      <td>174.280887</td>\n",
       "    </tr>\n",
       "    <tr>\n",
       "      <th>std</th>\n",
       "      <td>28867.657797</td>\n",
       "      <td>69.503418</td>\n",
       "      <td>59.440567</td>\n",
       "      <td>1524.737540</td>\n",
       "      <td>2091.246764</td>\n",
       "      <td>71.545584</td>\n",
       "    </tr>\n",
       "    <tr>\n",
       "      <th>min</th>\n",
       "      <td>0.000000</td>\n",
       "      <td>47.700000</td>\n",
       "      <td>285.000000</td>\n",
       "      <td>2003.700000</td>\n",
       "      <td>7613.560000</td>\n",
       "      <td>47.950000</td>\n",
       "    </tr>\n",
       "    <tr>\n",
       "      <th>25%</th>\n",
       "      <td>24999.750000</td>\n",
       "      <td>105.410000</td>\n",
       "      <td>348.000000</td>\n",
       "      <td>3481.460000</td>\n",
       "      <td>9551.590000</td>\n",
       "      <td>118.627500</td>\n",
       "    </tr>\n",
       "    <tr>\n",
       "      <th>50%</th>\n",
       "      <td>49999.500000</td>\n",
       "      <td>159.420000</td>\n",
       "      <td>401.000000</td>\n",
       "      <td>4746.530000</td>\n",
       "      <td>11240.020000</td>\n",
       "      <td>162.510000</td>\n",
       "    </tr>\n",
       "    <tr>\n",
       "      <th>75%</th>\n",
       "      <td>74999.250000</td>\n",
       "      <td>221.900000</td>\n",
       "      <td>451.000000</td>\n",
       "      <td>6045.477500</td>\n",
       "      <td>13175.230000</td>\n",
       "      <td>237.335000</td>\n",
       "    </tr>\n",
       "    <tr>\n",
       "      <th>max</th>\n",
       "      <td>99999.000000</td>\n",
       "      <td>310.660000</td>\n",
       "      <td>522.000000</td>\n",
       "      <td>7853.810000</td>\n",
       "      <td>15685.080000</td>\n",
       "      <td>313.640000</td>\n",
       "    </tr>\n",
       "  </tbody>\n",
       "</table>\n",
       "</div>"
      ],
      "text/plain": [
       "               Index          Price  Item_Quantity  Sales_Amount_No_Discount  \\\n",
       "count  100000.000000  100000.000000  100000.000000             100000.000000   \n",
       "mean    49999.500000     167.017783     399.611320               4771.147859   \n",
       "std     28867.657797      69.503418      59.440567               1524.737540   \n",
       "min         0.000000      47.700000     285.000000               2003.700000   \n",
       "25%     24999.750000     105.410000     348.000000               3481.460000   \n",
       "50%     49999.500000     159.420000     401.000000               4746.530000   \n",
       "75%     74999.250000     221.900000     451.000000               6045.477500   \n",
       "max     99999.000000     310.660000     522.000000               7853.810000   \n",
       "\n",
       "        Sales_Amount  Competition_Price  \n",
       "count  100000.000000      100000.000000  \n",
       "mean    11396.865217         174.280887  \n",
       "std      2091.246764          71.545584  \n",
       "min      7613.560000          47.950000  \n",
       "25%      9551.590000         118.627500  \n",
       "50%     11240.020000         162.510000  \n",
       "75%     13175.230000         237.335000  \n",
       "max     15685.080000         313.640000  "
      ]
     },
     "execution_count": 4,
     "metadata": {},
     "output_type": "execute_result"
    }
   ],
   "source": [
    "df.describe(include=[np.number])\n"
   ]
  },
  {
   "cell_type": "code",
   "execution_count": 5,
   "id": "408210b7-d865-4e1a-9917-9e55b58ad3d3",
   "metadata": {},
   "outputs": [
    {
     "data": {
      "text/html": [
       "<div>\n",
       "<style scoped>\n",
       "    .dataframe tbody tr th:only-of-type {\n",
       "        vertical-align: middle;\n",
       "    }\n",
       "\n",
       "    .dataframe tbody tr th {\n",
       "        vertical-align: top;\n",
       "    }\n",
       "\n",
       "    .dataframe thead th {\n",
       "        text-align: right;\n",
       "    }\n",
       "</style>\n",
       "<table border=\"1\" class=\"dataframe\">\n",
       "  <thead>\n",
       "    <tr style=\"text-align: right;\">\n",
       "      <th></th>\n",
       "      <th>Index</th>\n",
       "      <th>Fiscal_Week_ID</th>\n",
       "      <th>Store_ID</th>\n",
       "      <th>Item_ID</th>\n",
       "      <th>Price</th>\n",
       "      <th>Item_Quantity</th>\n",
       "      <th>Sales_Amount_No_Discount</th>\n",
       "      <th>Sales_Amount</th>\n",
       "      <th>Competition_Price</th>\n",
       "    </tr>\n",
       "  </thead>\n",
       "  <tbody>\n",
       "    <tr>\n",
       "      <th>0</th>\n",
       "      <td>0</td>\n",
       "      <td>2019-11</td>\n",
       "      <td>store_459</td>\n",
       "      <td>item_526</td>\n",
       "      <td>134.49</td>\n",
       "      <td>435</td>\n",
       "      <td>4716.74</td>\n",
       "      <td>11272.59</td>\n",
       "      <td>206.44</td>\n",
       "    </tr>\n",
       "    <tr>\n",
       "      <th>1</th>\n",
       "      <td>1</td>\n",
       "      <td>2019-11</td>\n",
       "      <td>store_459</td>\n",
       "      <td>item_526</td>\n",
       "      <td>134.49</td>\n",
       "      <td>435</td>\n",
       "      <td>4716.74</td>\n",
       "      <td>11272.59</td>\n",
       "      <td>158.01</td>\n",
       "    </tr>\n",
       "    <tr>\n",
       "      <th>2</th>\n",
       "      <td>2</td>\n",
       "      <td>2019-11</td>\n",
       "      <td>store_459</td>\n",
       "      <td>item_526</td>\n",
       "      <td>134.49</td>\n",
       "      <td>435</td>\n",
       "      <td>4716.74</td>\n",
       "      <td>11272.59</td>\n",
       "      <td>278.03</td>\n",
       "    </tr>\n",
       "    <tr>\n",
       "      <th>3</th>\n",
       "      <td>3</td>\n",
       "      <td>2019-11</td>\n",
       "      <td>store_459</td>\n",
       "      <td>item_526</td>\n",
       "      <td>134.49</td>\n",
       "      <td>435</td>\n",
       "      <td>4716.74</td>\n",
       "      <td>11272.59</td>\n",
       "      <td>222.66</td>\n",
       "    </tr>\n",
       "    <tr>\n",
       "      <th>4</th>\n",
       "      <td>4</td>\n",
       "      <td>2019-11</td>\n",
       "      <td>store_459</td>\n",
       "      <td>item_526</td>\n",
       "      <td>134.49</td>\n",
       "      <td>435</td>\n",
       "      <td>4716.74</td>\n",
       "      <td>11272.59</td>\n",
       "      <td>195.32</td>\n",
       "    </tr>\n",
       "  </tbody>\n",
       "</table>\n",
       "</div>"
      ],
      "text/plain": [
       "   Index Fiscal_Week_ID   Store_ID   Item_ID   Price  Item_Quantity  \\\n",
       "0      0        2019-11  store_459  item_526  134.49            435   \n",
       "1      1        2019-11  store_459  item_526  134.49            435   \n",
       "2      2        2019-11  store_459  item_526  134.49            435   \n",
       "3      3        2019-11  store_459  item_526  134.49            435   \n",
       "4      4        2019-11  store_459  item_526  134.49            435   \n",
       "\n",
       "   Sales_Amount_No_Discount  Sales_Amount  Competition_Price  \n",
       "0                   4716.74      11272.59             206.44  \n",
       "1                   4716.74      11272.59             158.01  \n",
       "2                   4716.74      11272.59             278.03  \n",
       "3                   4716.74      11272.59             222.66  \n",
       "4                   4716.74      11272.59             195.32  "
      ]
     },
     "execution_count": 5,
     "metadata": {},
     "output_type": "execute_result"
    }
   ],
   "source": [
    "df.head()"
   ]
  },
  {
   "cell_type": "code",
   "execution_count": 6,
   "id": "5178af15-18bc-4a00-93e8-9586f68851d9",
   "metadata": {},
   "outputs": [
    {
     "name": "stdout",
     "output_type": "stream",
     "text": [
      "<class 'pandas.core.frame.DataFrame'>\n",
      "RangeIndex: 100000 entries, 0 to 99999\n",
      "Data columns (total 9 columns):\n",
      " #   Column                    Non-Null Count   Dtype  \n",
      "---  ------                    --------------   -----  \n",
      " 0   Index                     100000 non-null  int64  \n",
      " 1   Fiscal_Week_ID            100000 non-null  object \n",
      " 2   Store_ID                  100000 non-null  object \n",
      " 3   Item_ID                   100000 non-null  object \n",
      " 4   Price                     100000 non-null  float64\n",
      " 5   Item_Quantity             100000 non-null  int64  \n",
      " 6   Sales_Amount_No_Discount  100000 non-null  float64\n",
      " 7   Sales_Amount              100000 non-null  float64\n",
      " 8   Competition_Price         100000 non-null  float64\n",
      "dtypes: float64(4), int64(2), object(3)\n",
      "memory usage: 6.9+ MB\n"
     ]
    }
   ],
   "source": [
    "#Let’s have a look at the column info before moving forward\n",
    "df.info()"
   ]
  },
  {
   "cell_type": "markdown",
   "id": "4339ab0c-07cd-4351-9ee5-4988f9bb5d52",
   "metadata": {},
   "source": [
    "## Comparing the price distribution with the competition:"
   ]
  },
  {
   "cell_type": "code",
   "execution_count": 8,
   "id": "de30081a-83cb-4d5e-aad2-600556b7d72d",
   "metadata": {},
   "outputs": [
    {
     "data": {
      "image/png": "[encoded data removed]",
      "text/plain": [
       "<Figure size 1000x500 with 2 Axes>"
      ]
     },
     "metadata": {},
     "output_type": "display_data"
    }
   ],
   "source": [
    "\n",
    "plt.figure(figsize=(10,5))\n",
    "plt.subplot(1,2,1)\n",
    "plt.hist(df['Price'],bins=25,alpha=0.7,label='Your Store')\n",
    "plt.xlabel('Price')\n",
    "plt.ylabel('Frequency')\n",
    "plt.title('Price Distribution - Your Store')\n",
    "\n",
    "\n",
    "plt.subplot(1,2,2)\n",
    "plt.hist(df['Competition_Price'],bins=25,alpha=0.7,color='brown',label='Competition')\n",
    "plt.xlabel('Price')\n",
    "plt.ylabel('Frequency')\n",
    "plt.title('Price Distribution - Competition')\n",
    "\n",
    "plt.tight_layout()\n",
    "plt.show()"
   ]
  },
  {
   "cell_type": "markdown",
   "id": "1c7e8543-0b31-466c-a2a4-429ac5b8281d",
   "metadata": {},
   "source": [
    "`It shows that the competition’s prices are generally higher, with peaks around the 100-150 and 200-250 price ranges, which indicate a concentration of higher-priced items. In contrast, our store’s prices are more evenly distributed across the 50-300 range, with notable peaks around 100-150.`"
   ]
  },
  {
   "cell_type": "markdown",
   "id": "3df5341a-fb0d-4389-9486-327e2eebabbe",
   "metadata": {},
   "source": [
    "## Compare the relationship between price and sales:"
   ]
  },
  {
   "cell_type": "code",
   "execution_count": 11,
   "id": "6b38cdd9-5a14-4022-b17f-2c1d68194bc4",
   "metadata": {},
   "outputs": [
    {
     "data": {
      "image/png": "[encoded data removed]",
      "text/plain": [
       "<Figure size 1000x500 with 2 Axes>"
      ]
     },
     "metadata": {},
     "output_type": "display_data"
    }
   ],
   "source": [
    "\n",
    "plt.figure(figsize=(10,5))\n",
    "plt.subplot(1,2,1)\n",
    "plt.scatter(df['Price'],df['Sales_Amount'],alpha=0.7,label='Your Store')\n",
    "plt.xlabel('Price')\n",
    "plt.ylabel('Sales Amount')\n",
    "plt.title('Price VS Sales Amount - our Store')\n",
    "\n",
    "\n",
    "plt.subplot(1,2,2)\n",
    "plt.scatter(df['Competition_Price'],df['Sales_Amount'],alpha=0.7,label='Competition')\n",
    "plt.xlabel('Price')\n",
    "plt.ylabel('Sales Amount')\n",
    "plt.title('Competition Price vs Sales Amount')\n",
    "\n",
    "plt.tight_layout()\n",
    "plt.show()"
   ]
  },
  {
   "cell_type": "markdown",
   "id": "62b303f2-852e-4d80-92a7-f51b2c989553",
   "metadata": {},
   "source": [
    "`For our store, the plot shows a wide dispersion of sales amounts across various price points, which indicates varied performance in different price ranges without a clear trend. In contrast, the competition’s plot shows a dense clustering of sales amounts around higher values, with prices also spread across a similar range but demonstrating a more consistent sales performance. It suggests that the competition might have a more effective pricing strategy, which maintains higher sales amounts more uniformly across different price points.`"
   ]
  },
  {
   "cell_type": "markdown",
   "id": "d761295e-7992-40a5-9749-19c9a5fbba22",
   "metadata": {},
   "source": [
    "## Compare the price changes over time:"
   ]
  },
  {
   "cell_type": "code",
   "execution_count": 14,
   "id": "4689028a-84b6-4517-9123-85aa761e1a90",
   "metadata": {},
   "outputs": [],
   "source": [
    "df['Fiscal_Week_ID'] = pd.to_datetime(df['Fiscal_Week_ID'] + '-1', format='%Y-%U-%w')"
   ]
  },
  {
   "cell_type": "code",
   "execution_count": 15,
   "id": "fb457a92-a075-4e70-a512-72ed67e64760",
   "metadata": {},
   "outputs": [
    {
     "data": {
      "text/plain": [
       "0       2019-03-18\n",
       "1       2019-03-18\n",
       "2       2019-03-18\n",
       "3       2019-03-18\n",
       "4       2019-03-18\n",
       "           ...    \n",
       "99995   2019-04-15\n",
       "99996   2019-04-15\n",
       "99997   2019-04-15\n",
       "99998   2019-04-15\n",
       "99999   2019-04-15\n",
       "Name: Fiscal_Week_ID, Length: 100000, dtype: datetime64[ns]"
      ]
     },
     "execution_count": 15,
     "metadata": {},
     "output_type": "execute_result"
    }
   ],
   "source": [
    "df['Fiscal_Week_ID']"
   ]
  },
  {
   "cell_type": "code",
   "execution_count": 16,
   "id": "15262d77-0082-4d32-a078-44ed76d1bcc6",
   "metadata": {},
   "outputs": [
    {
     "data": {
      "text/html": [
       "<div>\n",
       "<style scoped>\n",
       "    .dataframe tbody tr th:only-of-type {\n",
       "        vertical-align: middle;\n",
       "    }\n",
       "\n",
       "    .dataframe tbody tr th {\n",
       "        vertical-align: top;\n",
       "    }\n",
       "\n",
       "    .dataframe thead th {\n",
       "        text-align: right;\n",
       "    }\n",
       "</style>\n",
       "<table border=\"1\" class=\"dataframe\">\n",
       "  <thead>\n",
       "    <tr style=\"text-align: right;\">\n",
       "      <th></th>\n",
       "      <th>Fiscal_Week_ID</th>\n",
       "      <th>Price</th>\n",
       "      <th>Competition_Price</th>\n",
       "    </tr>\n",
       "  </thead>\n",
       "  <tbody>\n",
       "    <tr>\n",
       "      <th>0</th>\n",
       "      <td>2019-03-18</td>\n",
       "      <td>166.352333</td>\n",
       "      <td>175.018236</td>\n",
       "    </tr>\n",
       "    <tr>\n",
       "      <th>1</th>\n",
       "      <td>2019-03-25</td>\n",
       "      <td>166.486184</td>\n",
       "      <td>173.169854</td>\n",
       "    </tr>\n",
       "    <tr>\n",
       "      <th>2</th>\n",
       "      <td>2019-04-01</td>\n",
       "      <td>169.865254</td>\n",
       "      <td>173.161543</td>\n",
       "    </tr>\n",
       "    <tr>\n",
       "      <th>3</th>\n",
       "      <td>2019-04-08</td>\n",
       "      <td>164.892479</td>\n",
       "      <td>174.914615</td>\n",
       "    </tr>\n",
       "    <tr>\n",
       "      <th>4</th>\n",
       "      <td>2019-04-15</td>\n",
       "      <td>167.455556</td>\n",
       "      <td>175.189035</td>\n",
       "    </tr>\n",
       "  </tbody>\n",
       "</table>\n",
       "</div>"
      ],
      "text/plain": [
       "  Fiscal_Week_ID       Price  Competition_Price\n",
       "0     2019-03-18  166.352333         175.018236\n",
       "1     2019-03-25  166.486184         173.169854\n",
       "2     2019-04-01  169.865254         173.161543\n",
       "3     2019-04-08  164.892479         174.914615\n",
       "4     2019-04-15  167.455556         175.189035"
      ]
     },
     "execution_count": 16,
     "metadata": {},
     "output_type": "execute_result"
    }
   ],
   "source": [
    "weekly_prices = df.groupby('Fiscal_Week_ID').agg({\n",
    "    'Price': 'mean',\n",
    "    'Competition_Price': 'mean'\n",
    "}).reset_index()\n",
    "weekly_prices"
   ]
  },
  {
   "cell_type": "code",
   "execution_count": 17,
   "id": "ade734dd-f199-4e95-84fe-e479f54faa10",
   "metadata": {},
   "outputs": [
    {
     "data": {
      "image/png": "[encoded data removed]",
      "text/plain": [
       "<Figure size 1200x500 with 1 Axes>"
      ]
     },
     "metadata": {},
     "output_type": "display_data"
    }
   ],
   "source": [
    "plt.figure(figsize=(12,5))\n",
    "plt.plot(weekly_prices['Fiscal_Week_ID'],weekly_prices['Price'],label='Our Store', marker='o')\n",
    "plt.plot(weekly_prices['Fiscal_Week_ID'],weekly_prices['Competition_Price'],label='Competition', marker='o',color='orange')\n",
    "\n",
    "plt.xlabel('Fiscal Week')\n",
    "plt.ylabel('Average Price')\n",
    "plt.title('Price changes over time')\n",
    "plt.legend()\n",
    "plt.grid(True)\n",
    "# plt.tight_layout()\n",
    "plt.show()"
   ]
  },
  {
   "cell_type": "markdown",
   "id": "9935c576-338d-49ae-977f-c2158570023a",
   "metadata": {},
   "source": [
    "`The competition maintains higher average prices consistently above 170, with a slight upward trend over the observed weeks. In contrast, our store’s prices start around 166, increase slightly, then dip before rising again. It indicates that the competition follows a more stable pricing strategy, while our store experiences more fluctuations in pricing. The stability in the competition’s pricing could be contributing to their higher and more consistent sales performance.`"
   ]
  },
  {
   "cell_type": "markdown",
   "id": "7e199585-c4f7-4609-8b5e-ebf4c665e4a6",
   "metadata": {},
   "source": [
    "## How changes in prices affect the change in quantity sold"
   ]
  },
  {
   "cell_type": "markdown",
   "id": "8407c2f9-0d72-4935-9f06-c966c0d04ea0",
   "metadata": {},
   "source": [
    "- calculate price elasticity:\n",
    "\n",
    "\n",
    "- Ed = % change in quantity demanded / % change in price"
   ]
  },
  {
   "cell_type": "code",
   "execution_count": 27,
   "id": "7658649b-bd88-47eb-8a15-a171816536aa",
   "metadata": {},
   "outputs": [],
   "source": [
    "df['change_in_price']=df['Price'].pct_change()"
   ]
  },
  {
   "cell_type": "code",
   "execution_count": 28,
   "id": "63024571-949d-4ddc-b36a-8844e22f5959",
   "metadata": {},
   "outputs": [],
   "source": [
    "df['change_in_quantity']=df['Item_Quantity'].pct_change()"
   ]
  },
  {
   "cell_type": "code",
   "execution_count": 29,
   "id": "0e2d3865-8ee3-4f27-b9cd-4b6b0c7331ee",
   "metadata": {},
   "outputs": [],
   "source": [
    "df['price_elasticity']=df['change_in_quantity']/df['change_in_price']"
   ]
  },
  {
   "cell_type": "code",
   "execution_count": 31,
   "id": "d530a5ea-17fd-40cd-9e98-352131dbc97b",
   "metadata": {},
   "outputs": [
    {
     "data": {
      "text/plain": [
       "0             NaN\n",
       "1             NaN\n",
       "2             NaN\n",
       "3             NaN\n",
       "4             NaN\n",
       "           ...   \n",
       "99995    0.693748\n",
       "99996         NaN\n",
       "99997         NaN\n",
       "99998         NaN\n",
       "99999         NaN\n",
       "Name: price_elasticity, Length: 100000, dtype: float64"
      ]
     },
     "execution_count": 31,
     "metadata": {},
     "output_type": "execute_result"
    }
   ],
   "source": [
    "df['price_elasticity']"
   ]
  },
  {
   "cell_type": "code",
   "execution_count": 32,
   "id": "b0079090-bb2c-4346-b3dc-e03f91456687",
   "metadata": {},
   "outputs": [],
   "source": [
    "df[df == float('inf')] = None\n",
    "df[df == -float('inf')] = None\n",
    "#handle infinite values in a simpler way"
   ]
  },
  {
   "cell_type": "code",
   "execution_count": 33,
   "id": "9ce67c10-68e5-448d-a892-e0ee354dfa5b",
   "metadata": {},
   "outputs": [],
   "source": [
    "df.dropna(subset=['price_elasticity'], inplace=True)"
   ]
  },
  {
   "cell_type": "code",
   "execution_count": 34,
   "id": "efed38e0-42e1-4acc-8c45-1fabc3aa6e1d",
   "metadata": {},
   "outputs": [
    {
     "data": {
      "image/png": "[encoded data removed]",
      "text/plain": [
       "<Figure size 1200x500 with 1 Axes>"
      ]
     },
     "metadata": {},
     "output_type": "display_data"
    }
   ],
   "source": [
    "plt.figure(figsize=(12,5))\n",
    "plt.plot(df['Fiscal_Week_ID'], df['price_elasticity'],marker='o',color='green')\n",
    "plt.axhline(0, color='red', linewidth=0.8)\n",
    "plt.xlabel('Fiscal Week')\n",
    "plt.ylabel('Price Elasticity of Demand')\n",
    "plt.title('Price Elasticity of Demand Over Time')\n",
    "plt.grid(True)\n",
    "plt.show()"
   ]
  },
  {
   "cell_type": "markdown",
   "id": "0b275f78-f6bf-4bac-9d61-ce815d423153",
   "metadata": {},
   "source": [
    "`\n",
    "\n",
    "1. **Variability in Elasticity**:\n",
    "   - Price elasticity of demand changes significantly from week to week.\n",
    "\n",
    "2. **Positive Elasticity**:\n",
    "   - In some weeks, demand increases with price increases (high positive elasticity).\n",
    "\n",
    "3. **Negative Elasticity**:\n",
    "   - In other weeks, demand drops sharply with price increases (high negative elasticity).\n",
    "\n",
    "4. **Inconsistent Demand Response**:\n",
    "   - The wide range of elasticity values suggests that demand doesn't respond to price consistently.\n",
    "\n",
    "5. **Other Influencing Factors**:\n",
    "   - Factors like promotions, seasonality, or market conditions might also be impacting demand.`"
   ]
  },
  {
   "cell_type": "markdown",
   "id": "782388f0-5224-4f1f-9a37-3cdad17a6578",
   "metadata": {},
   "source": [
    "## Compare the total sales amounts for our store and the competition:"
   ]
  },
  {
   "cell_type": "code",
   "execution_count": 41,
   "id": "3700a71e-6025-436f-b082-17d2c5522122",
   "metadata": {},
   "outputs": [],
   "source": [
    "total_sales_your_store = df['Sales_Amount'].sum()\n",
    "total_sales_competition = (df['Competition_Price'] * df['Item_Quantity']).sum()\n",
    "\n",
    "total_qty_your_store = df['Item_Quantity'].sum()\n",
    "total_qty_competition = df['Item_Quantity'].sum()  "
   ]
  },
  {
   "cell_type": "code",
   "execution_count": 43,
   "id": "303068c6-cf37-4fd1-831f-0b413e0ed0c6",
   "metadata": {},
   "outputs": [],
   "source": [
    "summary=pd.DataFrame({\n",
    "    \"Calculation metrics\": ['Total Sales Amount','Total Quantity Sold'],\n",
    "    'Our Store': [total_sales_your_store, total_qty_your_store],\n",
    "    'Competition':[total_sales_competition, total_qty_competition]\n",
    "})"
   ]
  },
  {
   "cell_type": "code",
   "execution_count": 49,
   "id": "63723a2c-02e5-42be-9693-2aaa6fae9ea5",
   "metadata": {},
   "outputs": [
    {
     "data": {
      "text/html": [
       "<div>\n",
       "<style scoped>\n",
       "    .dataframe tbody tr th:only-of-type {\n",
       "        vertical-align: middle;\n",
       "    }\n",
       "\n",
       "    .dataframe tbody tr th {\n",
       "        vertical-align: top;\n",
       "    }\n",
       "\n",
       "    .dataframe thead th {\n",
       "        text-align: right;\n",
       "    }\n",
       "</style>\n",
       "<table border=\"1\" class=\"dataframe\">\n",
       "  <thead>\n",
       "    <tr style=\"text-align: right;\">\n",
       "      <th></th>\n",
       "      <th>Calculation metrics</th>\n",
       "      <th>Our Store</th>\n",
       "      <th>Competition</th>\n",
       "    </tr>\n",
       "  </thead>\n",
       "  <tbody>\n",
       "    <tr>\n",
       "      <th>0</th>\n",
       "      <td>Total Sales Amount</td>\n",
       "      <td>1.141005e+08</td>\n",
       "      <td>6.962097e+08</td>\n",
       "    </tr>\n",
       "    <tr>\n",
       "      <th>1</th>\n",
       "      <td>Total Quantity Sold</td>\n",
       "      <td>3.984776e+06</td>\n",
       "      <td>3.984776e+06</td>\n",
       "    </tr>\n",
       "  </tbody>\n",
       "</table>\n",
       "</div>"
      ],
      "text/plain": [
       "   Calculation metrics     Our Store   Competition\n",
       "0   Total Sales Amount  1.141005e+08  6.962097e+08\n",
       "1  Total Quantity Sold  3.984776e+06  3.984776e+06"
      ]
     },
     "execution_count": 49,
     "metadata": {},
     "output_type": "execute_result"
    }
   ],
   "source": [
    "summary"
   ]
  },
  {
   "cell_type": "markdown",
   "id": "4506c170-c072-4d59-95fd-22a18c2922c2",
   "metadata": {},
   "source": [
    "### Key Observations:\n",
    "1. **Sales Gap**:\n",
    "   - Although both stores sold the **same quantity of products**, the competition generated a much higher **total sales amount**.\n",
    "   - This suggests that the competitor's products might have **higher average prices** or focus on premium products.\n",
    "\n",
    "2. **Performance Insights**:\n",
    "   - Your store's pricing strategy, product mix, or customer base might differ significantly from the competition, leading to the sales revenue disparity."
   ]
  },
  {
   "cell_type": "markdown",
   "id": "1c4da882-0d37-415f-b767-9a3094d28067",
   "metadata": {},
   "source": [
    "## Where the competition outperforms our store:"
   ]
  },
  {
   "cell_type": "code",
   "execution_count": 56,
   "id": "c737b9e0-3311-4838-8eb4-92588d0108c3",
   "metadata": {},
   "outputs": [],
   "source": [
    "#define price brackets"
   ]
  },
  {
   "cell_type": "code",
   "execution_count": 58,
   "id": "15a897b7-2f00-4d6b-a993-2081c5766e1b",
   "metadata": {},
   "outputs": [],
   "source": [
    "bins=[0,50,100,150,200,250,300,350,400,450,500]\n",
    "labels=['0-50','51-100','101-150','151-200','201-250','251-300','301-350','351-400','401-450','451-500']"
   ]
  },
  {
   "cell_type": "code",
   "execution_count": 61,
   "id": "fb9334d3-7532-4a2e-954a-dc70ff064610",
   "metadata": {},
   "outputs": [],
   "source": [
    "# create price brackets for both your store and competition"
   ]
  },
  {
   "cell_type": "code",
   "execution_count": 63,
   "id": "beb13110-9892-4a9b-bbd8-b68b0f9a60ca",
   "metadata": {},
   "outputs": [],
   "source": [
    "df['price_bracket'] = pd.cut(df['Price'], bins=bins, labels=labels, right=False)\n",
    "df['competition_price_bracket'] = pd.cut(df['Competition_Price'], bins=bins, labels=labels, right=False)\n"
   ]
  },
  {
   "cell_type": "code",
   "execution_count": 65,
   "id": "bc67f3a3-ce2d-4051-8c74-944527071132",
   "metadata": {},
   "outputs": [
    {
     "data": {
      "text/plain": [
       "10       101-150\n",
       "20       101-150\n",
       "30       101-150\n",
       "40       101-150\n",
       "50       101-150\n",
       "          ...   \n",
       "99975     51-100\n",
       "99980     51-100\n",
       "99985     51-100\n",
       "99990    101-150\n",
       "99995     51-100\n",
       "Name: price_bracket, Length: 9991, dtype: category\n",
       "Categories (10, object): ['0-50' < '51-100' < '101-150' < '151-200' ... '301-350' < '351-400' < '401-450' < '451-500']"
      ]
     },
     "execution_count": 65,
     "metadata": {},
     "output_type": "execute_result"
    }
   ],
   "source": [
    "df['price_bracket']"
   ]
  },
  {
   "cell_type": "code",
   "execution_count": 67,
   "id": "4398a535-d9f5-42e1-ba1a-5355ad19faa4",
   "metadata": {},
   "outputs": [],
   "source": [
    "sales_by_bracket_your_store=df.groupby('price_bracket', observed=False)['Sales_Amount'].sum().reset_index()\n"
   ]
  },
  {
   "cell_type": "code",
   "execution_count": 69,
   "id": "c38ebb4d-e507-4464-9dd8-fae6a81a9b71",
   "metadata": {},
   "outputs": [],
   "source": [
    "sales_by_bracket_your_store.columns=['Price Bracket','Your Store Sales Amount']"
   ]
  },
  {
   "cell_type": "code",
   "execution_count": 71,
   "id": "7f95e8b9-50aa-4e13-a325-5596673a837b",
   "metadata": {},
   "outputs": [
    {
     "data": {
      "text/plain": [
       "Index(['Price Bracket', 'Your Store Sales Amount'], dtype='object')"
      ]
     },
     "execution_count": 71,
     "metadata": {},
     "output_type": "execute_result"
    }
   ],
   "source": [
    "sales_by_bracket_your_store.columns"
   ]
  },
  {
   "cell_type": "code",
   "execution_count": 73,
   "id": "2bdee866-24d4-4101-82e2-707737573a59",
   "metadata": {},
   "outputs": [],
   "source": [
    "# calculate sales amount by price bracket for competition\n",
    "df['Competition_sales']=df['Competition_Price']*df['Item_Quantity']\n",
    "sales_by_bracket_competition = df.groupby('competition_price_bracket',observed=False)['Competition_sales'].sum().reset_index()"
   ]
  },
  {
   "cell_type": "code",
   "execution_count": 75,
   "id": "f6ea725b-eaaf-4b89-a652-45db603932a7",
   "metadata": {},
   "outputs": [],
   "source": [
    "sales_by_bracket_competition.columns=['Price Bracket','Competition Sales Amount']"
   ]
  },
  {
   "cell_type": "code",
   "execution_count": 77,
   "id": "4316f5da-4e45-44ff-ae4e-1517f2843f74",
   "metadata": {},
   "outputs": [
    {
     "data": {
      "text/plain": [
       "Index(['Price Bracket', 'Competition Sales Amount'], dtype='object')"
      ]
     },
     "execution_count": 77,
     "metadata": {},
     "output_type": "execute_result"
    }
   ],
   "source": [
    "sales_by_bracket_competition.columns"
   ]
  },
  {
   "cell_type": "code",
   "execution_count": 79,
   "id": "8fb728e7-3023-4dd5-9ec4-1b723d19526d",
   "metadata": {},
   "outputs": [
    {
     "data": {
      "text/html": [
       "<div>\n",
       "<style scoped>\n",
       "    .dataframe tbody tr th:only-of-type {\n",
       "        vertical-align: middle;\n",
       "    }\n",
       "\n",
       "    .dataframe tbody tr th {\n",
       "        vertical-align: top;\n",
       "    }\n",
       "\n",
       "    .dataframe thead th {\n",
       "        text-align: right;\n",
       "    }\n",
       "</style>\n",
       "<table border=\"1\" class=\"dataframe\">\n",
       "  <thead>\n",
       "    <tr style=\"text-align: right;\">\n",
       "      <th></th>\n",
       "      <th>Price Bracket</th>\n",
       "      <th>Your Store Sales Amount</th>\n",
       "      <th>Competition Sales Amount</th>\n",
       "    </tr>\n",
       "  </thead>\n",
       "  <tbody>\n",
       "    <tr>\n",
       "      <th>0</th>\n",
       "      <td>0-50</td>\n",
       "      <td>346800.63</td>\n",
       "      <td>9.305357e+05</td>\n",
       "    </tr>\n",
       "    <tr>\n",
       "      <th>1</th>\n",
       "      <td>51-100</td>\n",
       "      <td>24636244.30</td>\n",
       "      <td>4.889277e+07</td>\n",
       "    </tr>\n",
       "    <tr>\n",
       "      <th>2</th>\n",
       "      <td>101-150</td>\n",
       "      <td>29645669.06</td>\n",
       "      <td>1.278404e+08</td>\n",
       "    </tr>\n",
       "    <tr>\n",
       "      <th>3</th>\n",
       "      <td>151-200</td>\n",
       "      <td>20658418.18</td>\n",
       "      <td>1.092184e+08</td>\n",
       "    </tr>\n",
       "    <tr>\n",
       "      <th>4</th>\n",
       "      <td>201-250</td>\n",
       "      <td>20742288.10</td>\n",
       "      <td>1.909748e+08</td>\n",
       "    </tr>\n",
       "    <tr>\n",
       "      <th>5</th>\n",
       "      <td>251-300</td>\n",
       "      <td>16778087.66</td>\n",
       "      <td>2.047670e+08</td>\n",
       "    </tr>\n",
       "    <tr>\n",
       "      <th>6</th>\n",
       "      <td>301-350</td>\n",
       "      <td>1292959.36</td>\n",
       "      <td>1.358583e+07</td>\n",
       "    </tr>\n",
       "    <tr>\n",
       "      <th>7</th>\n",
       "      <td>351-400</td>\n",
       "      <td>0.00</td>\n",
       "      <td>0.000000e+00</td>\n",
       "    </tr>\n",
       "    <tr>\n",
       "      <th>8</th>\n",
       "      <td>401-450</td>\n",
       "      <td>0.00</td>\n",
       "      <td>0.000000e+00</td>\n",
       "    </tr>\n",
       "    <tr>\n",
       "      <th>9</th>\n",
       "      <td>451-500</td>\n",
       "      <td>0.00</td>\n",
       "      <td>0.000000e+00</td>\n",
       "    </tr>\n",
       "  </tbody>\n",
       "</table>\n",
       "</div>"
      ],
      "text/plain": [
       "  Price Bracket  Your Store Sales Amount  Competition Sales Amount\n",
       "0          0-50                346800.63              9.305357e+05\n",
       "1        51-100              24636244.30              4.889277e+07\n",
       "2       101-150              29645669.06              1.278404e+08\n",
       "3       151-200              20658418.18              1.092184e+08\n",
       "4       201-250              20742288.10              1.909748e+08\n",
       "5       251-300              16778087.66              2.047670e+08\n",
       "6       301-350               1292959.36              1.358583e+07\n",
       "7       351-400                     0.00              0.000000e+00\n",
       "8       401-450                     0.00              0.000000e+00\n",
       "9       451-500                     0.00              0.000000e+00"
      ]
     },
     "execution_count": 79,
     "metadata": {},
     "output_type": "execute_result"
    }
   ],
   "source": [
    "sales_by_bracket = pd.merge(sales_by_bracket_your_store, sales_by_bracket_competition, on='Price Bracket')\n",
    "\n",
    "sales_by_bracket"
   ]
  },
  {
   "cell_type": "markdown",
   "id": "c557b4a7-e716-43d7-9e85-51cc68c20fca",
   "metadata": {},
   "source": [
    "### Price Bracket Insights:\r\n",
    "\r\n",
    "- **0-50 Bracket**: \r\n",
    "  - The competition has significantly higher sales in this bracket.\r\n",
    "\r\n",
    "- **51-100 Bracket**: \r\n",
    "  - The competition outperforms our store by a wide margin.\r\n",
    "\r\n",
    "- **101-150 Bracket**: \r\n",
    "  - The competition’s sales are much higher than our store’s sales.\r\n",
    "\r\n",
    "- **151-200 Bracket**: \r\n",
    "  - The competition again has significantly higher sales.\r\n",
    "\r\n",
    "- **201-250 Bracket**: \r\n",
    "  - The competition’s sales are nearly double those of our store.\r\n",
    "\r\n",
    "- **251-300 Bracket**: \r\n",
    "  - The competition has higher sales, but the gap is smaller compared to other brackets.\r\n",
    "\r\n",
    "- **301-350 Bracket**: \r\n",
    "  - The competition has higher sales, though the overall sales amount is lower in this bracket compared to others.\r\n",
    "thers."
   ]
  },
  {
   "cell_type": "markdown",
   "id": "427f477d-62b3-4e24-9c73-385e74e8e9eb",
   "metadata": {},
   "source": [
    "## Price Optimization with Dynamic Pricing"
   ]
  },
  {
   "cell_type": "markdown",
   "id": "e9d04ea2-d465-498c-91bf-ae7eca32ecac",
   "metadata": {},
   "source": [
    "`Now, let’s start by defining a dynamic pricing model and simulating its performance. Here are the steps we will use:\r\n",
    "\r\n",
    "We will enhance our dataset to include segments and calculate price elasticity for each segment.\r\n",
    "We’ll create segments based on purchasing behaviour and calculate price elasticity for each segment.\r\n",
    "We’ll define dynamic pricing rules based on competitor pricing, demand, and elasticity.\r\n",
    "We’ll simulate the dynamic pricing model and compare it with the existing pricing strategy.\r\n",
    "Now, let’s start with segmenting the data and calculating price elasticity for each segment:`stomer behavior and market conditions.\r\n",
    "gment:"
   ]
  },
  {
   "cell_type": "code",
   "execution_count": 84,
   "id": "81b8d601-c580-4f5f-92c8-ea3930dfa470",
   "metadata": {},
   "outputs": [],
   "source": [
    "# segment customers based on purchasing behavior\n",
    "\n",
    "# calculate average price and total quantity sold for each item\n",
    "item_summary = df.groupby('Item_ID').agg({\n",
    "    'Price': 'mean',\n",
    "    'Item_Quantity': 'sum'\n",
    "}).reset_index()\n",
    "\n",
    "# merge the item summary back to the main dataset\n",
    "df = pd.merge(df, item_summary, on='Item_ID', suffixes=('', '_avg'))"
   ]
  },
  {
   "cell_type": "code",
   "execution_count": 86,
   "id": "18e96a99-1d57-4a96-ba13-370313792651",
   "metadata": {},
   "outputs": [],
   "source": [
    "df['segment'] = pd.cut(df['Price_avg'], bins=[0, 50, 150, 300], labels=['Low', 'Medium', 'High'])\n"
   ]
  },
  {
   "cell_type": "code",
   "execution_count": 88,
   "id": "f62a4640-5d7d-4dc8-8895-9c007d7ffbf4",
   "metadata": {},
   "outputs": [],
   "source": [
    "# calculate price elasticity for each segment\n",
    "segments = df['segment'].unique()\n",
    "elasticity_data = []"
   ]
  },
  {
   "cell_type": "code",
   "execution_count": 90,
   "id": "b52ec443-d4bf-4be2-9f56-2a2ab040f886",
   "metadata": {},
   "outputs": [
    {
     "data": {
      "text/plain": [
       "['Medium', 'High']\n",
       "Categories (3, object): ['Low' < 'Medium' < 'High']"
      ]
     },
     "execution_count": 90,
     "metadata": {},
     "output_type": "execute_result"
    }
   ],
   "source": [
    "segments"
   ]
  },
  {
   "cell_type": "code",
   "execution_count": 92,
   "id": "bea8dda2-f768-49ac-bdb9-53e2a961c40b",
   "metadata": {},
   "outputs": [],
   "source": [
    "for segment in segments:\n",
    "    # Filter the data for the segment\n",
    "    segment_data = df[df['segment'] == segment].copy()  # Explicitly make a copy to avoid SettingWithCopyWarning\n",
    "    \n",
    "    # Calculate percentage changes and elasticity\n",
    "    segment_data['price_change'] = segment_data['Price'].pct_change()\n",
    "    segment_data['qty_change'] = segment_data['Item_Quantity'].pct_change()\n",
    "    segment_data['elasticity'] = segment_data['qty_change'] / segment_data['price_change']\n",
    "    "
   ]
  },
  {
   "cell_type": "code",
   "execution_count": 94,
   "id": "efd7f4b2-342f-4f8f-a969-5cb307147be5",
   "metadata": {},
   "outputs": [],
   "source": [
    "segment_data.replace([float('inf'), -float('inf')], float('nan'), inplace=True)"
   ]
  },
  {
   "cell_type": "code",
   "execution_count": 96,
   "id": "298d3f3b-d449-4afa-8a2a-59612fd2b43a",
   "metadata": {},
   "outputs": [],
   "source": [
    "avg_elasticity = segment_data['elasticity'].mean()"
   ]
  },
  {
   "cell_type": "code",
   "execution_count": 98,
   "id": "e378c2fc-f72e-4c82-b75a-219f7fa129a9",
   "metadata": {},
   "outputs": [],
   "source": [
    "elasticity_data.append({'segment': segment, 'avg_elasticity': avg_elasticity})"
   ]
  },
  {
   "cell_type": "code",
   "execution_count": 100,
   "id": "d8ef9009-291b-474d-8e56-a77c923f8874",
   "metadata": {},
   "outputs": [
    {
     "data": {
      "text/plain": [
       "[{'segment': 'High', 'avg_elasticity': 0.14804315010292812}]"
      ]
     },
     "execution_count": 100,
     "metadata": {},
     "output_type": "execute_result"
    }
   ],
   "source": [
    "elasticity_data"
   ]
  },
  {
   "cell_type": "code",
   "execution_count": 102,
   "id": "e189ec6f-1e96-4dbe-b8c7-76f3e13b7dbb",
   "metadata": {},
   "outputs": [],
   "source": [
    "elasticity_df = pd.DataFrame(elasticity_data)"
   ]
  },
  {
   "cell_type": "code",
   "execution_count": 104,
   "id": "a6fcc794-8f0a-47fb-8bc7-7d62e7e805ee",
   "metadata": {},
   "outputs": [
    {
     "data": {
      "text/html": [
       "<div>\n",
       "<style scoped>\n",
       "    .dataframe tbody tr th:only-of-type {\n",
       "        vertical-align: middle;\n",
       "    }\n",
       "\n",
       "    .dataframe tbody tr th {\n",
       "        vertical-align: top;\n",
       "    }\n",
       "\n",
       "    .dataframe thead th {\n",
       "        text-align: right;\n",
       "    }\n",
       "</style>\n",
       "<table border=\"1\" class=\"dataframe\">\n",
       "  <thead>\n",
       "    <tr style=\"text-align: right;\">\n",
       "      <th></th>\n",
       "      <th>segment</th>\n",
       "      <th>avg_elasticity</th>\n",
       "    </tr>\n",
       "  </thead>\n",
       "  <tbody>\n",
       "    <tr>\n",
       "      <th>0</th>\n",
       "      <td>High</td>\n",
       "      <td>0.148043</td>\n",
       "    </tr>\n",
       "  </tbody>\n",
       "</table>\n",
       "</div>"
      ],
      "text/plain": [
       "  segment  avg_elasticity\n",
       "0    High        0.148043"
      ]
     },
     "execution_count": 104,
     "metadata": {},
     "output_type": "execute_result"
    }
   ],
   "source": [
    "elasticity_df"
   ]
  },
  {
   "cell_type": "markdown",
   "id": "fd6c6384-bfa1-4422-9dac-bd53fa0f7313",
   "metadata": {},
   "source": [
    "`Based on the elasticity, we can define the following dynamic pricing rules:`\n",
    "\n",
    "`Medium Segment (Inelastic Demand): Small changes in price won’t significantly affect demand. We can slightly increase prices to maximize revenue without losing much in sales volume.\n",
    "High Segment (Elastic Demand): Demand is sensitive to price changes. We should optimize prices to find the sweet spot that maximizes revenue without losing sales volume.`"
   ]
  },
  {
   "cell_type": "markdown",
   "id": "06922d0d-7fd3-4872-8e4b-f030f40588e2",
   "metadata": {},
   "source": [
    "## Dynamic Pricing"
   ]
  },
  {
   "cell_type": "code",
   "execution_count": 108,
   "id": "1056b5f9-ab00-42fb-9d51-4eeac5aacee4",
   "metadata": {},
   "outputs": [
    {
     "data": {
      "text/html": [
       "<div>\n",
       "<style scoped>\n",
       "    .dataframe tbody tr th:only-of-type {\n",
       "        vertical-align: middle;\n",
       "    }\n",
       "\n",
       "    .dataframe tbody tr th {\n",
       "        vertical-align: top;\n",
       "    }\n",
       "\n",
       "    .dataframe thead th {\n",
       "        text-align: right;\n",
       "    }\n",
       "</style>\n",
       "<table border=\"1\" class=\"dataframe\">\n",
       "  <thead>\n",
       "    <tr style=\"text-align: right;\">\n",
       "      <th></th>\n",
       "      <th>Metric</th>\n",
       "      <th>Existing Pricing</th>\n",
       "      <th>Dynamic Pricing</th>\n",
       "    </tr>\n",
       "  </thead>\n",
       "  <tbody>\n",
       "    <tr>\n",
       "      <th>0</th>\n",
       "      <td>Total Sales Amount</td>\n",
       "      <td>1.141005e+08</td>\n",
       "      <td>6.226950e+08</td>\n",
       "    </tr>\n",
       "    <tr>\n",
       "      <th>1</th>\n",
       "      <td>Total Quantity Sold</td>\n",
       "      <td>3.984776e+06</td>\n",
       "      <td>3.984776e+06</td>\n",
       "    </tr>\n",
       "  </tbody>\n",
       "</table>\n",
       "</div>"
      ],
      "text/plain": [
       "                Metric  Existing Pricing  Dynamic Pricing\n",
       "0   Total Sales Amount      1.141005e+08     6.226950e+08\n",
       "1  Total Quantity Sold      3.984776e+06     3.984776e+06"
      ]
     },
     "execution_count": 108,
     "metadata": {},
     "output_type": "execute_result"
    }
   ],
   "source": [
    "# create a copy of the dataset for simulation\n",
    "dynamic_pricing_data = df.copy()\n",
    "\n",
    "# apply dynamic pricing rules\n",
    "dynamic_pricing_data.loc[dynamic_pricing_data['segment'] == 'Medium', 'dynamic_price'] = dynamic_pricing_data['Price'] * 1.05\n",
    "dynamic_pricing_data.loc[dynamic_pricing_data['segment'] == 'High', 'dynamic_price'] = dynamic_pricing_data['Price'] * 0.90\n",
    "\n",
    "# calculate new sales amounts based on dynamic prices\n",
    "dynamic_pricing_data['dynamic_sales_amt'] = dynamic_pricing_data['dynamic_price'] * dynamic_pricing_data['Item_Quantity']\n",
    "\n",
    "# compare total sales amount between existing and dynamic pricing\n",
    "total_sales_existing = df['Sales_Amount'].sum()\n",
    "total_sales_dynamic = dynamic_pricing_data['dynamic_sales_amt'].sum()\n",
    "\n",
    "# compare total quantity sold between existing and dynamic pricing\n",
    "total_qty_existing = df['Item_Quantity'].sum()\n",
    "total_qty_dynamic = dynamic_pricing_data['Item_Quantity'].sum()  # quantity sold remains the same for comparison\n",
    "\n",
    "comparison_summary = pd.DataFrame({\n",
    "    'Metric': ['Total Sales Amount', 'Total Quantity Sold'],\n",
    "    'Existing Pricing': [total_sales_existing, total_qty_existing],\n",
    "    'Dynamic Pricing': [total_sales_dynamic, total_qty_dynamic]\n",
    "})\n",
    "\n",
    "comparison_summary"
   ]
  },
  {
   "cell_type": "markdown",
   "id": "9c763ecf-c48c-4576-86f7-d0cafc117dda",
   "metadata": {},
   "source": [
    "`The dynamic pricing strategy results in a significantly higher total sales amount compared to the existing pricing strategy. This indicates that the dynamic pricing approach is more effective in maximizing revenue.`"
   ]
  },
  {
   "cell_type": "code",
   "execution_count": null,
   "id": "9cc837b4-2541-47d2-85fc-34bf2de634b7",
   "metadata": {},
   "outputs": [],
   "source": []
  },
  {
   "cell_type": "code",
   "execution_count": null,
   "id": "eb730fe6-010a-4084-bba1-f1aa1d2f3bf1",
   "metadata": {},
   "outputs": [],
   "source": []
  },
  {
   "cell_type": "code",
   "execution_count": null,
   "id": "a95c6529-e1cd-40bd-89a4-4d901351c2b6",
   "metadata": {},
   "outputs": [],
   "source": []
  },
  {
   "cell_type": "code",
   "execution_count": null,
   "id": "a0200e02-5a6a-48a6-90e9-a3bbfa42cad6",
   "metadata": {},
   "outputs": [],
   "source": []
  },
  {
   "cell_type": "code",
   "execution_count": null,
   "id": "749dcbdd-406b-46a5-b5fa-7341e7435185",
   "metadata": {},
   "outputs": [],
   "source": []
  }
 ],
 "metadata": {
  "kernelspec": {
   "display_name": "Python 3 (ipykernel)",
   "language": "python",
   "name": "python3"
  },
  "language_info": {
   "codemirror_mode": {
    "name": "ipython",
    "version": 3
   },
   "file_extension": ".py",
   "mimetype": "text/x-python",
   "name": "python",
   "nbconvert_exporter": "python",
   "pygments_lexer": "ipython3",
   "version": "3.12.4"
  }
 },
 "nbformat": 4,
 "nbformat_minor": 5
}
